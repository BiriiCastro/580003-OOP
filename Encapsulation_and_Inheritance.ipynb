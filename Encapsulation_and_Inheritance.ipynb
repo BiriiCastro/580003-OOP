{
  "nbformat": 4,
  "nbformat_minor": 0,
  "metadata": {
    "colab": {
      "provenance": [],
      "authorship_tag": "ABX9TyNYuCU5+bgG95AJc0KAto4B",
      "include_colab_link": true
    },
    "kernelspec": {
      "name": "python3",
      "display_name": "Python 3"
    },
    "language_info": {
      "name": "python"
    }
  },
  "cells": [
    {
      "cell_type": "markdown",
      "metadata": {
        "id": "view-in-github",
        "colab_type": "text"
      },
      "source": [
        "<a href=\"https://colab.research.google.com/github/BiriiCastro/580003-OOP/blob/main/Encapsulation_and_Inheritance.ipynb\" target=\"_parent\"><img src=\"https://colab.research.google.com/assets/colab-badge.svg\" alt=\"Open In Colab\"/></a>"
      ]
    },
    {
      "cell_type": "markdown",
      "source": [
        "March 03 2023"
      ],
      "metadata": {
        "id": "7Me48crRVgXa"
      }
    },
    {
      "cell_type": "code",
      "execution_count": 3,
      "metadata": {
        "colab": {
          "base_uri": "https://localhost:8080/"
        },
        "id": "13V8KkWgRNpV",
        "outputId": "e3246b77-e6bf-45ba-94ba-a0b929ac1706"
      },
      "outputs": [
        {
          "output_type": "stream",
          "name": "stdout",
          "text": [
            "Enter name: billy\n",
            "Enter birhtday: 03-02-2002\n",
            "Hi billy, your birthday is 03-02-2002\n"
          ]
        }
      ],
      "source": [
        "#OOP Concepts part II\n",
        "\n",
        "\n",
        "class Person:\n",
        "  def __init__(self, name, birthday):\n",
        "    self.name = name\n",
        "    self.birthday = birthday\n",
        "\n",
        "  def Display(self):\n",
        "    print(f\"Hi {self.name}, your birthday is {self.birthday}\")\n",
        "\n",
        "x = input(\"Enter name: \")\n",
        "y = input(\"Enter birhtday: \")\n",
        "\n",
        "person = Person(x, y)\n",
        "person.Display()"
      ]
    },
    {
      "cell_type": "code",
      "source": [
        "class Foo:\n",
        "  def __init__(self, a, b):\n",
        "    self.a = a\n",
        "    self.b = b\n",
        "\n",
        "  def add(self):\n",
        "    return self.a + self.b\n",
        "\n",
        "foo_object = Foo(3, 4)\n",
        "foo_object.add()"
      ],
      "metadata": {
        "colab": {
          "base_uri": "https://localhost:8080/"
        },
        "id": "LC2fF4iBYpCa",
        "outputId": "5ff8c5d3-ac9f-42d1-e143-3488a29a3837"
      },
      "execution_count": 6,
      "outputs": [
        {
          "output_type": "execute_result",
          "data": {
            "text/plain": [
              "7"
            ]
          },
          "metadata": {},
          "execution_count": 6
        }
      ]
    },
    {
      "cell_type": "markdown",
      "source": [
        "mangling - using double underscore before the variable\n",
        "\n",
        "---\n",
        "this prevent data manipulation (hides the variable)\n",
        "\n",
        "\n"
      ],
      "metadata": {
        "id": "GWy9uXxWYZca"
      }
    },
    {
      "cell_type": "code",
      "source": [
        "#Encapsulation\n",
        "class Foo:\n",
        "  def __init__(self, a, b):\n",
        "    self.__a = a\n",
        "    self.__b = b\n",
        "\n",
        "  def add(self):\n",
        "    return self.__a + self.__b\n",
        "\n",
        "foo_object = Foo(3, 4)\n",
        "foo_object.add()"
      ],
      "metadata": {
        "colab": {
          "base_uri": "https://localhost:8080/"
        },
        "id": "YRDSvKbuZy86",
        "outputId": "e7fa4687-c02c-4a24-dc8c-0e2470995f51"
      },
      "execution_count": 7,
      "outputs": [
        {
          "output_type": "execute_result",
          "data": {
            "text/plain": [
              "7"
            ]
          },
          "metadata": {},
          "execution_count": 7
        }
      ]
    },
    {
      "cell_type": "code",
      "source": [
        "class Counter:\n",
        "  def __init__(self):\n",
        "    self.__current = 0\n",
        "\n",
        "  def increment(self):\n",
        "    self.__current += 1\n",
        "\n",
        "  def value(self):\n",
        "    return self.__current\n",
        "  \n",
        "  def reset(self):\n",
        "    self.__current = 0\n",
        "\n",
        "C = Counter()\n",
        "print(C.value())\n",
        "C.increment()\n",
        "print(C.value())\n",
        "C.reset()\n",
        "print(C.value())\n"
      ],
      "metadata": {
        "colab": {
          "base_uri": "https://localhost:8080/"
        },
        "id": "rWSKawu7Z8wB",
        "outputId": "4b9c9348-8109-46d8-be4c-7d272323d07c"
      },
      "execution_count": 10,
      "outputs": [
        {
          "output_type": "stream",
          "name": "stdout",
          "text": [
            "0\n",
            "1\n",
            "0\n"
          ]
        }
      ]
    },
    {
      "cell_type": "code",
      "source": [
        "class Counter:\n",
        "  def __init__(self):\n",
        "    self.__current = 0\n",
        "\n",
        "  def increment(self):\n",
        "    self.__current += 1\n",
        "\n",
        "  def value(self):\n",
        "    return self.__current\n",
        "  \n",
        "  def reset(self):\n",
        "    self.__current = 0\n",
        "  \n",
        "  def show_counter(self):\n",
        "    print(f\"The incremented value is: {self.increment()}\")\n",
        "    print(f\"The current value is: {self.value()}\")\n",
        "    print(f\"The reseted value is: {self.reset()}\")\n",
        "    \n",
        "\n",
        "C = Counter()\n",
        "C.show_counter()\n"
      ],
      "metadata": {
        "colab": {
          "base_uri": "https://localhost:8080/"
        },
        "id": "cEu7o6KuchR7",
        "outputId": "3c020ea3-c5ac-4895-9ed0-3e391efec158"
      },
      "execution_count": 28,
      "outputs": [
        {
          "output_type": "stream",
          "name": "stdout",
          "text": [
            "The incremented value is: None\n",
            "The current value is: 1\n",
            "The reseted value is: None\n"
          ]
        }
      ]
    },
    {
      "cell_type": "code",
      "source": [
        "\n",
        "class Person:\n",
        "  def __init__(self, name, birthdate):\n",
        "    self.name = name\n",
        "    self.birthdate = birthdate\n",
        "\n",
        "  def display_identity(self):\n",
        "    print(f\"Hi, My name is {self.name}\\n My birthday is {self.birthdate}\")\n",
        "\n",
        "class Teacher(Person):\n",
        "  pass\n",
        "\n",
        "class Student(Person):\n",
        "  pass\n",
        "\n",
        "teacher = Teacher(\"Maria\", \"Febuary 20, 1987\")\n",
        "student = Student(\"Anne\", \"April 04 2014\")\n",
        "\n",
        "teacher.display_identity()\n",
        "student.display_identity()\n",
        "\n"
      ],
      "metadata": {
        "colab": {
          "base_uri": "https://localhost:8080/"
        },
        "id": "0Brw3yCeeMCx",
        "outputId": "c5d441a9-ee44-4dc2-a8d7-f316d6a71d55"
      },
      "execution_count": 38,
      "outputs": [
        {
          "output_type": "stream",
          "name": "stdout",
          "text": [
            "Hi, My name is Maria\n",
            " My birthday is Febuary 20, 1987\n",
            "Hi, My name is Anne\n",
            " My birthday is April 04 2014\n"
          ]
        }
      ]
    },
    {
      "cell_type": "code",
      "source": [
        "class Shape:\n",
        "  def __init__(self, sides):\n",
        "    self.sides = sides\n",
        "\n",
        "class Triangle(Shape):\n",
        "  pass\n",
        "\n",
        "class Triangle(Shape):\n",
        "\n",
        "class Triangle(Shape):\n",
        "\n",
        "class Triangle(Shape):\n",
        "\n",
        "x = int(input(\"Enter side value: \"))"
      ],
      "metadata": {
        "id": "T3dhHPUZiDxG"
      },
      "execution_count": null,
      "outputs": []
    }
  ]
}