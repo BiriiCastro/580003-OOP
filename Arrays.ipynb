{
  "nbformat": 4,
  "nbformat_minor": 0,
  "metadata": {
    "colab": {
      "provenance": [],
      "authorship_tag": "ABX9TyOhq/2ozrif3QsoNsGvNodF",
      "include_colab_link": true
    },
    "kernelspec": {
      "name": "python3",
      "display_name": "Python 3"
    },
    "language_info": {
      "name": "python"
    }
  },
  "cells": [
    {
      "cell_type": "markdown",
      "metadata": {
        "id": "view-in-github",
        "colab_type": "text"
      },
      "source": [
        "<a href=\"https://colab.research.google.com/github/BiriiCastro/580003-OOP/blob/main/Arrays.ipynb\" target=\"_parent\"><img src=\"https://colab.research.google.com/assets/colab-badge.svg\" alt=\"Open In Colab\"/></a>"
      ]
    },
    {
      "cell_type": "markdown",
      "source": [
        "Creating array elements"
      ],
      "metadata": {
        "id": "JI3j0zSkkHml"
      }
    },
    {
      "cell_type": "code",
      "execution_count": 8,
      "metadata": {
        "colab": {
          "base_uri": "https://localhost:8080/"
        },
        "id": "Q7RwRI9widg1",
        "outputId": "69177837-2203-4f0b-c992-527bb30a0a01"
      },
      "outputs": [
        {
          "output_type": "stream",
          "name": "stdout",
          "text": [
            "cat\n",
            "dog\n",
            "fish\n",
            "cat dog fish\n"
          ]
        }
      ],
      "source": [
        "animals = [\"cat\", \"dog\", \"fish\"]\n",
        "\n",
        "print(animals[0])\n",
        "print(animals[1])\n",
        "print(animals[2])\n",
        "\n",
        "# or\n",
        "\n",
        "x = animals[0]\n",
        "y = animals[1]\n",
        "z = animals[2]\n",
        "#t = animals[3] this cannot happen\n",
        "\n",
        "print(x, y, z"
      ]
    },
    {
      "cell_type": "markdown",
      "source": [
        "Modifying array elements"
      ],
      "metadata": {
        "id": "HyyaIV17kBV9"
      }
    },
    {
      "cell_type": "code",
      "source": [
        "animals[0] = \"monkey\"\n",
        "\n",
        "print(animals[0])\n",
        "print(\"This is an array of animals:\", animals)"
      ],
      "metadata": {
        "colab": {
          "base_uri": "https://localhost:8080/"
        },
        "id": "94YUBhpnjV3-",
        "outputId": "12505e50-4703-405e-8207-46f9ef4d72ef"
      },
      "execution_count": 11,
      "outputs": [
        {
          "output_type": "stream",
          "name": "stdout",
          "text": [
            "monkey\n",
            "This is an array of animals: ['monkey', 'dog', 'fish']\n"
          ]
        }
      ]
    },
    {
      "cell_type": "markdown",
      "source": [
        "lenght of array"
      ],
      "metadata": {
        "id": "_tj86tN0kNgF"
      }
    },
    {
      "cell_type": "code",
      "source": [
        "l = len(animals)\n",
        "print(l)\n",
        "\n",
        "newjeans = [\"Minji\", \"Hanni\", \"Danielle\", \"Haerin\", \"Hyein\"]\n",
        "\n",
        "print(len(newjeans))"
      ],
      "metadata": {
        "colab": {
          "base_uri": "https://localhost:8080/"
        },
        "id": "o26AKIf5katw",
        "outputId": "defc2d78-816e-4cc3-b96b-50041d7ef142"
      },
      "execution_count": 25,
      "outputs": [
        {
          "output_type": "stream",
          "name": "stdout",
          "text": [
            "3\n",
            "5\n"
          ]
        }
      ]
    },
    {
      "cell_type": "markdown",
      "source": [
        "Deletion of elements in an array"
      ],
      "metadata": {
        "id": "olzKukL0kwWh"
      }
    },
    {
      "cell_type": "code",
      "source": [
        "newjeans = [\"Minji\", \"Hanni\", \"Danielle\", \"Haerin\", \"Hyein\"]\n",
        "\n",
        "newjeans.pop(4)\n",
        "\n",
        "print(newjeans)"
      ],
      "metadata": {
        "colab": {
          "base_uri": "https://localhost:8080/"
        },
        "id": "GjZ9aqqPky2g",
        "outputId": "69f712e9-33fa-442d-ff33-c95f0e57a1ef"
      },
      "execution_count": 27,
      "outputs": [
        {
          "output_type": "stream",
          "name": "stdout",
          "text": [
            "['Minji', 'Hanni', 'Danielle', 'Haerin']\n"
          ]
        }
      ]
    },
    {
      "cell_type": "markdown",
      "source": [
        "Adding elements in an Array"
      ],
      "metadata": {
        "id": "sNGz4vR3mK6J"
      }
    },
    {
      "cell_type": "code",
      "source": [
        "# Append = sa dulo ilalagay\n",
        "animals = [\"monkey\",\"cat\", \"dog\", \"fish\"]\n",
        "\n",
        "animals.append(\"eagle\")\n",
        "animals.insert(2, \"lion\")\n",
        "\n",
        "print(animals)\n",
        "\n",
        "#Insert = Insert an element in any position\n",
        "\n",
        "colleges = [\"CE\", \"EE\", \"IE\"]\n",
        "colleges.insert(0, \"CpE\")\n",
        "print(colleges)\n",
        "\n",
        "colleges.insert(1, \"ME\")\n",
        "\n",
        "print(colleges)\n"
      ],
      "metadata": {
        "colab": {
          "base_uri": "https://localhost:8080/"
        },
        "id": "DFG08p4DmOkA",
        "outputId": "8e3fa702-b977-4814-85cb-b49ffabaf779"
      },
      "execution_count": 48,
      "outputs": [
        {
          "output_type": "stream",
          "name": "stdout",
          "text": [
            "['monkey', 'cat', 'lion', 'dog', 'fish', 'eagle']\n",
            "['CpE', 'CE', 'EE', 'IE']\n",
            "['CpE', 'ME', 'CE', 'EE', 'IE']\n"
          ]
        }
      ]
    },
    {
      "cell_type": "markdown",
      "source": [
        "delete dog from array elements \"animals\""
      ],
      "metadata": {
        "id": "KlYlcmemnP-s"
      }
    },
    {
      "cell_type": "code",
      "source": [
        "print(animals)\n",
        "\n",
        "# animals.pop(3) using pop method\n",
        "\n",
        "animals.remove(\"dog\") # using remove method\n",
        "\n",
        "print(animals)"
      ],
      "metadata": {
        "colab": {
          "base_uri": "https://localhost:8080/"
        },
        "id": "zaqLZ43onWa6",
        "outputId": "2cc96004-d3f7-4eb5-9dbc-22b76bba7bae"
      },
      "execution_count": 49,
      "outputs": [
        {
          "output_type": "stream",
          "name": "stdout",
          "text": [
            "['monkey', 'cat', 'lion', 'dog', 'fish', 'eagle']\n",
            "['monkey', 'cat', 'lion', 'fish', 'eagle']\n"
          ]
        }
      ]
    },
    {
      "cell_type": "markdown",
      "source": [
        "LOOPING ARRAYS"
      ],
      "metadata": {
        "id": "iLrYx0pQozg6"
      }
    },
    {
      "cell_type": "code",
      "source": [],
      "metadata": {
        "id": "nWFI53C-o2EZ"
      },
      "execution_count": null,
      "outputs": []
    }
  ]
}