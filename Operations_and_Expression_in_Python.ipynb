{
  "nbformat": 4,
  "nbformat_minor": 0,
  "metadata": {
    "colab": {
      "provenance": [],
      "authorship_tag": "ABX9TyNou10lJho9ZO7aHD+PNjEF",
      "include_colab_link": true
    },
    "kernelspec": {
      "name": "python3",
      "display_name": "Python 3"
    },
    "language_info": {
      "name": "python"
    }
  },
  "cells": [
    {
      "cell_type": "markdown",
      "metadata": {
        "id": "view-in-github",
        "colab_type": "text"
      },
      "source": [
        "<a href=\"https://colab.research.google.com/github/BiriiCastro/580003-OOP/blob/main/Operations_and_Expression_in_Python.ipynb\" target=\"_parent\"><img src=\"https://colab.research.google.com/assets/colab-badge.svg\" alt=\"Open In Colab\"/></a>"
      ]
    },
    {
      "cell_type": "markdown",
      "source": [
        "Boolean Operators"
      ],
      "metadata": {
        "id": "b4NE9GULhIlP"
      }
    },
    {
      "cell_type": "code",
      "execution_count": 1,
      "metadata": {
        "colab": {
          "base_uri": "https://localhost:8080/"
        },
        "id": "vIu6AM4ChDCE",
        "outputId": "5612cea9-ea4b-4bb1-f831-84f079c05fbd"
      },
      "outputs": [
        {
          "output_type": "stream",
          "name": "stdout",
          "text": [
            "True\n",
            "False\n",
            "False\n"
          ]
        }
      ],
      "source": [
        "print(10 > 9)\n",
        "\n",
        "print(10 < 9)\n",
        "\n",
        "print(10 == 9)"
      ]
    },
    {
      "cell_type": "code",
      "source": [
        "print(bool(\"Hello\"))\n",
        "\n",
        "print(bool(15))"
      ],
      "metadata": {
        "colab": {
          "base_uri": "https://localhost:8080/"
        },
        "id": "iX3wqbEBh-_b",
        "outputId": "09af6039-3bab-4c9c-a296-6eb15dc0ed55"
      },
      "execution_count": 4,
      "outputs": [
        {
          "output_type": "stream",
          "name": "stdout",
          "text": [
            "True\n",
            "True\n"
          ]
        }
      ]
    },
    {
      "cell_type": "code",
      "source": [
        "bool(False)\n",
        "bool(None)\n",
        "bool(0)\n",
        "bool(\"\")       \n",
        "bool(())\n",
        "bool([])\n",
        "bool({})"
      ],
      "metadata": {
        "colab": {
          "base_uri": "https://localhost:8080/"
        },
        "id": "pVP-1Ta-iLoB",
        "outputId": "b6d84bcf-7acc-422a-cd7c-c9a8e369cd10"
      },
      "execution_count": 8,
      "outputs": [
        {
          "output_type": "execute_result",
          "data": {
            "text/plain": [
              "False"
            ]
          },
          "metadata": {},
          "execution_count": 8
        }
      ]
    },
    {
      "cell_type": "code",
      "source": [
        "print(bool(1))\n",
        "print(bool(-1))\n",
        "print(bool(\"Billy\"))\n",
        "print(bool(0))"
      ],
      "metadata": {
        "colab": {
          "base_uri": "https://localhost:8080/"
        },
        "id": "bjR-bEriipVC",
        "outputId": "39ba6048-2c13-47bf-ddfa-78e028c33f67"
      },
      "execution_count": 9,
      "outputs": [
        {
          "output_type": "stream",
          "name": "stdout",
          "text": [
            "True\n",
            "True\n",
            "True\n",
            "False\n"
          ]
        }
      ]
    },
    {
      "cell_type": "markdown",
      "source": [
        "Functions can return a Boolean"
      ],
      "metadata": {
        "id": "m_NBp0xejwgr"
      }
    },
    {
      "cell_type": "code",
      "source": [
        "def myFunction():\n",
        "  return True\n",
        "\n",
        "print(myFunction())"
      ],
      "metadata": {
        "colab": {
          "base_uri": "https://localhost:8080/"
        },
        "id": "lS8zfm_3jz1r",
        "outputId": "110caaca-6390-42d4-c380-0f3a0ee18e04"
      },
      "execution_count": 10,
      "outputs": [
        {
          "output_type": "stream",
          "name": "stdout",
          "text": [
            "True\n"
          ]
        }
      ]
    },
    {
      "cell_type": "code",
      "source": [
        "def myFunction():\n",
        "  return True \n",
        "\n",
        "if myFunction():\n",
        "  print(\"YES!\")\n",
        "else:\n",
        "  print(\"NO!\")\n"
      ],
      "metadata": {
        "colab": {
          "base_uri": "https://localhost:8080/"
        },
        "id": "_RrBLBFskN5F",
        "outputId": "372c11d4-cfb6-4da0-f9c7-8d4e49f75871"
      },
      "execution_count": 15,
      "outputs": [
        {
          "output_type": "stream",
          "name": "stdout",
          "text": [
            "YES!\n"
          ]
        }
      ]
    },
    {
      "cell_type": "markdown",
      "source": [
        "Python Operators"
      ],
      "metadata": {
        "id": "Jx-uBmMFlsiH"
      }
    },
    {
      "cell_type": "code",
      "source": [
        "print(10 + 5)\n",
        "print(10 - 5)\n",
        "print(10 * 5)\n",
        "print(10 / 5)\n",
        "print(10 % 5)\n",
        "print(10 // 3) ##Floor division if 10 / 3 = 3.33... if 10 // 3 = 3(only the whole number)\n",
        "print(10 ** 2)"
      ],
      "metadata": {
        "colab": {
          "base_uri": "https://localhost:8080/"
        },
        "id": "ejK7ORkAlBt9",
        "outputId": "3e0cbe22-835f-4775-d322-b6587b759991"
      },
      "execution_count": 17,
      "outputs": [
        {
          "output_type": "stream",
          "name": "stdout",
          "text": [
            "15\n",
            "5\n",
            "50\n",
            "2.0\n",
            "0\n",
            "3\n",
            "100\n"
          ]
        }
      ]
    },
    {
      "cell_type": "markdown",
      "source": [
        "Pyhton Bitwise Operators"
      ],
      "metadata": {
        "id": "B4rduGXYmsXE"
      }
    },
    {
      "cell_type": "code",
      "source": [
        "a = 60\n",
        "b = 13\n",
        "\n",
        "##  AND\n",
        "print(a & b)\n",
        "# 0 0 1 1  1 1 0 0\n",
        "# 0 0 0 0  1 1 0 1\n",
        "# 0 0 0 0  1 1 0 0\n",
        "\n",
        "## OR\n",
        "print(a | b)\n",
        "# 0 0 1 1  1 1 0 0\n",
        "# 0 0 0 0  1 1 0 1\n",
        "# 0 0 1 1  1 1 0 1\n",
        "\n",
        "## XOR\n",
        "print(a ^ b)\n",
        "# 0 0 1 1  1 1 0 0 \n",
        "# 0 0 0 0  1 1 0 1\n",
        "# 1 1 0 0  0 0 0 1"
      ],
      "metadata": {
        "colab": {
          "base_uri": "https://localhost:8080/"
        },
        "id": "uh_GUIK6mup0",
        "outputId": "371dc725-52fb-43e9-cd95-c3b45238ce86"
      },
      "execution_count": 27,
      "outputs": [
        {
          "output_type": "stream",
          "name": "stdout",
          "text": [
            "12\n",
            "61\n"
          ]
        }
      ]
    },
    {
      "cell_type": "code",
      "source": [
        "# 0 0 1 1  1 1 0 0  => 0 1 1 1  1 0 0 0\n",
        "a << 1\n",
        "\n",
        "# 0 0 1 1  1 1 0 0  => 1 1 1 1  0 0 0 0  \n",
        "a << 2\n",
        "\n",
        "# 0 0 0 0  1 1 0 1 => 0 0 0 0   0 1 1 0\n",
        "b >> 1\n"
      ],
      "metadata": {
        "colab": {
          "base_uri": "https://localhost:8080/"
        },
        "id": "U8pV4pBfp7Ob",
        "outputId": "39bb4be7-578b-45a8-8955-75d8400fd5c2"
      },
      "execution_count": 32,
      "outputs": [
        {
          "output_type": "execute_result",
          "data": {
            "text/plain": [
              "6"
            ]
          },
          "metadata": {},
          "execution_count": 32
        }
      ]
    },
    {
      "cell_type": "markdown",
      "source": [
        "Python Assignment Operators"
      ],
      "metadata": {
        "id": "kZ8Smnamq4Xq"
      }
    },
    {
      "cell_type": "code",
      "source": [
        "v = w = x = y = z = int(input(\"Enter a Value: \"))\n",
        "\n",
        "v += 3 \n",
        "w -= 3\n",
        "x *= 3\n",
        "y /= 3\n",
        "z %= 3\n",
        "\n",
        "print(v, w, x, y, z)\n"
      ],
      "metadata": {
        "colab": {
          "base_uri": "https://localhost:8080/"
        },
        "id": "lBJGP4hAq7yD",
        "outputId": "fffdfb6f-0692-4cb6-cd91-79db5233212e"
      },
      "execution_count": 35,
      "outputs": [
        {
          "output_type": "stream",
          "name": "stdout",
          "text": [
            "Enter a Value: 12\n",
            "15 9 36 4.0 0\n"
          ]
        }
      ]
    },
    {
      "cell_type": "markdown",
      "source": [
        "Logical Operators"
      ],
      "metadata": {
        "id": "kkJHuLYfr78L"
      }
    },
    {
      "cell_type": "code",
      "source": [
        "t = True\n",
        "f = False\n",
        "print(\"\\n\")\n",
        "print(t and f)\n",
        "print(t and t)\n",
        "print(f and f)\n",
        "\n",
        "print(\"\\n\")\n",
        "print(t or f)\n",
        "print(t or t)\n",
        "print(f or f)\n",
        "\n",
        "print(\"\\n\")\n",
        "print(not(t and f))\n",
        "print(not(t and t))\n"
      ],
      "metadata": {
        "colab": {
          "base_uri": "https://localhost:8080/"
        },
        "id": "ELci5Qmdr99x",
        "outputId": "b921ebf1-9f39-4521-e5fc-935e11b745f4"
      },
      "execution_count": 41,
      "outputs": [
        {
          "output_type": "stream",
          "name": "stdout",
          "text": [
            "\n",
            "\n",
            "False\n",
            "True\n",
            "False\n",
            "\n",
            "\n",
            "True\n",
            "True\n",
            "False\n",
            "\n",
            "\n",
            "True\n",
            "False\n"
          ]
        }
      ]
    },
    {
      "cell_type": "markdown",
      "source": [
        "Identity Operators"
      ],
      "metadata": {
        "id": "AUg90udNsvxS"
      }
    },
    {
      "cell_type": "code",
      "source": [
        "# is is not\n",
        "\n",
        "t = True\n",
        "f = False\n",
        "\n",
        "print(t is t)\n",
        "print(t is f)\n",
        "\n",
        "print(\"\\n\")\n",
        "print(t is not f)"
      ],
      "metadata": {
        "colab": {
          "base_uri": "https://localhost:8080/"
        },
        "id": "7VbQg_Lvsxxq",
        "outputId": "16c4c4f7-16c7-4d86-c6e1-849b6c9d35d9"
      },
      "execution_count": 45,
      "outputs": [
        {
          "output_type": "stream",
          "name": "stdout",
          "text": [
            "True\n",
            "False\n",
            "\n",
            "\n",
            "True\n"
          ]
        }
      ]
    }
  ]
}