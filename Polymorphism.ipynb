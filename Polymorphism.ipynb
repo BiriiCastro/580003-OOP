{
  "nbformat": 4,
  "nbformat_minor": 0,
  "metadata": {
    "colab": {
      "provenance": [],
      "authorship_tag": "ABX9TyO3GSYryPZyWj1VixIQV/uk",
      "include_colab_link": true
    },
    "kernelspec": {
      "name": "python3",
      "display_name": "Python 3"
    },
    "language_info": {
      "name": "python"
    }
  },
  "cells": [
    {
      "cell_type": "markdown",
      "metadata": {
        "id": "view-in-github",
        "colab_type": "text"
      },
      "source": [
        "<a href=\"https://colab.research.google.com/github/BiriiCastro/580003-OOP/blob/main/Polymorphism.ipynb\" target=\"_parent\"><img src=\"https://colab.research.google.com/assets/colab-badge.svg\" alt=\"Open In Colab\"/></a>"
      ]
    },
    {
      "cell_type": "markdown",
      "source": [
        "Polymorphism"
      ],
      "metadata": {
        "id": "MOEHV-rcM5Un"
      }
    },
    {
      "cell_type": "code",
      "execution_count": 1,
      "metadata": {
        "id": "t51AvVbfM0sF"
      },
      "outputs": [],
      "source": [
        "class RegularPolygon:\n",
        "  def __init__(self, side):\n",
        "    self.side = side\n",
        "\n",
        "class Square(RegularPolygon):\n",
        "  def area(self):\n",
        "    return self.side * self.side\n",
        "\n",
        "class EquilateralTriangle(RegularPolygon):\n",
        "  def area(self):\n",
        "    return self.side ** 2 * 0.433\n"
      ]
    },
    {
      "cell_type": "code",
      "source": [
        "class TransportFare:\n",
        "  def __init__(self, price, distance):\n",
        "    self.price = price\n",
        "    self.distance = distance\n",
        "\n",
        "class Tricyle(TransportFare):\n",
        "  def fare(self)"
      ],
      "metadata": {
        "id": "SxRobco0Ojy_"
      },
      "execution_count": null,
      "outputs": []
    },
    {
      "cell_type": "markdown",
      "source": [
        "TUI - Text User Interface - only available in colab\n",
        "\n"
      ],
      "metadata": {
        "id": "6tbOEYR0PQkO"
      }
    },
    {
      "cell_type": "code",
      "source": [],
      "metadata": {
        "id": "prpaWFHuPf6M"
      },
      "execution_count": null,
      "outputs": []
    }
  ]
}