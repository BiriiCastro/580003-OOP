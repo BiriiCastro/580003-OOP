{
  "nbformat": 4,
  "nbformat_minor": 0,
  "metadata": {
    "colab": {
      "provenance": [],
      "authorship_tag": "ABX9TyPA6YMEzAB2FrSeLswIdsfV",
      "include_colab_link": true
    },
    "kernelspec": {
      "name": "python3",
      "display_name": "Python 3"
    },
    "language_info": {
      "name": "python"
    }
  },
  "cells": [
    {
      "cell_type": "markdown",
      "metadata": {
        "id": "view-in-github",
        "colab_type": "text"
      },
      "source": [
        "<a href=\"https://colab.research.google.com/github/BiriiCastro/580003-OOP/blob/main/Laboratory_Activity_02.ipynb\" target=\"_parent\"><img src=\"https://colab.research.google.com/assets/colab-badge.svg\" alt=\"Open In Colab\"/></a>"
      ]
    },
    {
      "cell_type": "markdown",
      "source": [
        "Laboratory Activity 02\n",
        "\n",
        "\n",
        "---\n",
        "\n",
        "Castro, Billy Boy Chino"
      ],
      "metadata": {
        "id": "aM6R_c2Azji0"
      }
    },
    {
      "cell_type": "code",
      "execution_count": 14,
      "metadata": {
        "colab": {
          "base_uri": "https://localhost:8080/"
        },
        "id": "51JlZFYrzfaX",
        "outputId": "4bd65064-1979-4a98-dcdf-29c93acc4b5a"
      },
      "outputs": [
        {
          "output_type": "stream",
          "name": "stdout",
          "text": [
            "Enter Radius: 5\n",
            "The Perimeter of a Circle is: 31.4159\n",
            "The Area of a Circle is:  78.53975\n"
          ]
        }
      ],
      "source": [
        "class Circle:\n",
        "  def __init__(self, radius):\n",
        "    self.radius = radius\n",
        "    self.pi = 3.14159\n",
        "  \n",
        "  def Display(self):\n",
        "    print(\"The Perimeter of a Circle is:\", self.Perimeter())\n",
        "    print(\"The Area of a Circle is: \", self.Area())\n",
        "\n",
        "  def Perimeter(self):\n",
        "    return 2 * self.pi * self.radius\n",
        "\n",
        "  def Area(self):\n",
        "    return self.pi * self.radius ** 2\n",
        "\n",
        "R = float(input(\"Enter Radius: \"))\n",
        "circle = Circle(R)\n",
        "circle.Display()\n"
      ]
    }
  ]
}