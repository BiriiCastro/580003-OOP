{
  "nbformat": 4,
  "nbformat_minor": 0,
  "metadata": {
    "colab": {
      "provenance": [],
      "authorship_tag": "ABX9TyP5w+SMU7SOp9BpepJHxIcv",
      "include_colab_link": true
    },
    "kernelspec": {
      "name": "python3",
      "display_name": "Python 3"
    },
    "language_info": {
      "name": "python"
    }
  },
  "cells": [
    {
      "cell_type": "markdown",
      "metadata": {
        "id": "view-in-github",
        "colab_type": "text"
      },
      "source": [
        "<a href=\"https://colab.research.google.com/github/BiriiCastro/580003-OOP/blob/main/Hands_on_No_01.ipynb\" target=\"_parent\"><img src=\"https://colab.research.google.com/assets/colab-badge.svg\" alt=\"Open In Colab\"/></a>"
      ]
    },
    {
      "cell_type": "code",
      "execution_count": 38,
      "metadata": {
        "colab": {
          "base_uri": "https://localhost:8080/"
        },
        "id": "8yv_czoVP1i2",
        "outputId": "22070fce-12cd-4be6-a877-36c78aa8a690"
      },
      "outputs": [
        {
          "output_type": "stream",
          "name": "stdout",
          "text": [
            "Enter Name: billy\n",
            "Enter preliminary grade for billy: 100\n",
            "Enter midterm grade for billy: 50\n",
            "Enter finals grade for billy: 75\n",
            "billy: 75.0\n",
            "Enter Name: Bob\n",
            "Enter preliminary grade for Bob: 65\n",
            "Enter midterm grade for Bob: 65\n",
            "Enter finals grade for Bob: 70\n",
            "Bob: 66.66666666666667\n",
            "Enter Name: mike\n",
            "Enter preliminary grade for mike: 95\n",
            "Enter midterm grade for mike: 98\n",
            "Enter finals grade for mike: 97\n",
            "mike: 96.66666666666667\n"
          ]
        }
      ],
      "source": [
        "class Person:\n",
        "    def __init__(self, name, prelim, midterm, finals):\n",
        "        self.__name = name\n",
        "        self.__prelim = prelim\n",
        "        self.__midterm = midterm\n",
        "        self.__finals = finals\n",
        "\n",
        "    def std1(self):\n",
        "        self.__name = input(\"Enter Name: \")\n",
        "    \n",
        "    def std2(self):\n",
        "        self.__name = input(\"Enter Name: \")\n",
        "\n",
        "    def std3(self):\n",
        "        self.__name = input(\"Enter Name: \")\n",
        "\n",
        "    def pre(self):\n",
        "        self.__prelim = int(input(f\"Enter preliminary grade for {self.__name}: \"))\n",
        "\n",
        "    def mid(self):\n",
        "        self.__midterm = int(input(f\"Enter midterm grade for {self.__name}: \"))\n",
        "\n",
        "    def fin(self):\n",
        "        self.__finals = int(input(f\"Enter finals grade for {self.__name}: \"))\n",
        "\n",
        "    def Grade(self):\n",
        "        return (self.__prelim + self.__midterm + self.__finals) / 3\n",
        "\n",
        "student1 = Person(\"\", 0, 0, 0)\n",
        "student1.std1()\n",
        "student1.pre()\n",
        "student1.mid()\n",
        "student1.fin()\n",
        "std1_avg = student1.Grade()\n",
        "print(f\"{student1._Person__name}: {std1_avg}\")\n",
        "\n",
        "student2 = Person(\"\", 0, 0, 0)\n",
        "student2.std2()\n",
        "student2.pre()\n",
        "student2.mid()\n",
        "student2.fin()\n",
        "std2_avg = student2.Grade()\n",
        "print(f\"{student2._Person__name}: {std2_avg}\")\n",
        "\n",
        "student3 = Person(\"\", 0, 0, 0)\n",
        "student3.std3()\n",
        "student3.pre()\n",
        "student3.mid()\n",
        "student3.fin()\n",
        "std3_avg = student3.Grade()\n",
        "print(f\"{student3._Person__name}: {std3_avg}\")\n"
      ]
    }
  ]
}