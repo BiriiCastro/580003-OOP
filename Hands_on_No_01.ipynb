{
  "nbformat": 4,
  "nbformat_minor": 0,
  "metadata": {
    "colab": {
      "provenance": [],
      "authorship_tag": "ABX9TyNuFsdaPP13hL4FVWdDTrM9",
      "include_colab_link": true
    },
    "kernelspec": {
      "name": "python3",
      "display_name": "Python 3"
    },
    "language_info": {
      "name": "python"
    }
  },
  "cells": [
    {
      "cell_type": "markdown",
      "metadata": {
        "id": "view-in-github",
        "colab_type": "text"
      },
      "source": [
        "<a href=\"https://colab.research.google.com/github/BiriiCastro/580003-OOP/blob/main/Hands_on_No_01.ipynb\" target=\"_parent\"><img src=\"https://colab.research.google.com/assets/colab-badge.svg\" alt=\"Open In Colab\"/></a>"
      ]
    },
    {
      "cell_type": "code",
      "execution_count": 35,
      "metadata": {
        "colab": {
          "base_uri": "https://localhost:8080/"
        },
        "id": "8yv_czoVP1i2",
        "outputId": "096bd844-673a-4507-e1b4-e41e82700d6a"
      },
      "outputs": [
        {
          "output_type": "stream",
          "name": "stdout",
          "text": [
            "Enter preliminary grade for Billy: 75\n",
            "Enter midterm grade for Billy: 75\n",
            "Enter finals grade for Billy: 75\n",
            "Billy: 75.0\n",
            "Enter preliminary grade for Bob: 88\n",
            "Enter midterm grade for Bob: 88\n",
            "Enter finals grade for Bob: 88\n",
            "Bob: 88.0\n",
            "Enter preliminary grade for Chino: 66\n",
            "Enter midterm grade for Chino: 69\n",
            "Enter finals grade for Chino: 80\n",
            "Chino: 71.66666666666667\n"
          ]
        }
      ],
      "source": [
        "class Person:\n",
        "    def __init__(self, name, prelim, midterm, finals):\n",
        "        self.__name = name\n",
        "        self.__prelim = 0\n",
        "        self.__midterm = 0\n",
        "        self.__finals = 0\n",
        "\n",
        "    def std1(self):\n",
        "        self.__name = \"Billy\"\n",
        "\n",
        "    def std2(self):\n",
        "        self.__name = \"Bob\"\n",
        "\n",
        "    def std3(self):\n",
        "        self.__name = \"Chino\"\n",
        "    \n",
        "    def pre(self):\n",
        "        self.__prelim = int(input(f\"Enter preliminary grade for {self.__name}: \"))\n",
        "\n",
        "    def mid(self):\n",
        "        self.__midterm = int(input(f\"Enter midterm grade for {self.__name}: \"))\n",
        "\n",
        "    def fin(self):\n",
        "        self.__finals = int(input(f\"Enter finals grade for {self.__name}: \"))\n",
        "\n",
        "    def Grade(self):\n",
        "        return (self.__prelim + self.__midterm + self.__finals) / 3\n",
        "\n",
        "student1.std1()\n",
        "student2.std2()\n",
        "student3.std3()\n",
        "\n",
        "\n",
        "student1.pre()\n",
        "student1.mid()\n",
        "student1.fin()\n",
        "std1_avg = student1.Grade()\n",
        "print(f\"{student1.name}: {std1_avg}\")\n",
        "\n",
        "student2.pre()\n",
        "student2.mid()\n",
        "student2.fin()\n",
        "std2_avg = student2.Grade()\n",
        "print(f\"{student2.name}: {std2_avg}\")\n",
        "\n",
        "student3.pre()\n",
        "student3.mid()\n",
        "student3.fin()\n",
        "std3_avg = student3.Grade()\n",
        "print(f\"{student3.name}: {std3_avg}\")\n"
      ]
    }
  ]
}