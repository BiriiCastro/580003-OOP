{
  "nbformat": 4,
  "nbformat_minor": 0,
  "metadata": {
    "colab": {
      "provenance": [],
      "authorship_tag": "ABX9TyN8i3nqc4L39MZu2mHrGQY5",
      "include_colab_link": true
    },
    "kernelspec": {
      "name": "python3",
      "display_name": "Python 3"
    },
    "language_info": {
      "name": "python"
    }
  },
  "cells": [
    {
      "cell_type": "markdown",
      "metadata": {
        "id": "view-in-github",
        "colab_type": "text"
      },
      "source": [
        "<a href=\"https://colab.research.google.com/github/BiriiCastro/580003-OOP/blob/main/Functions.ipynb\" target=\"_parent\"><img src=\"https://colab.research.google.com/assets/colab-badge.svg\" alt=\"Open In Colab\"/></a>"
      ]
    },
    {
      "cell_type": "code",
      "execution_count": 9,
      "metadata": {
        "colab": {
          "base_uri": "https://localhost:8080/"
        },
        "id": "IO46u_xw-66W",
        "outputId": "37d642fb-525e-4deb-c370-b8c19ba214d0"
      },
      "outputs": [
        {
          "output_type": "stream",
          "name": "stdout",
          "text": [
            "['banana', 'apple', 'strawberry', 1, 3, 2]\n",
            "['banana', 'apple', 2, 'strawberry', 1, 3, 2]\n",
            "['banana', 'apple', 2, 'strawberry', 1, 3, 2, 5]\n"
          ]
        }
      ],
      "source": [
        "fruits = [\"banana\", \"apple\", \"strawberry\", 1, 3, 2]\n",
        "\n",
        "print(fruits)\n",
        "\n",
        "fruits.insert(2, 2)\n",
        "\n",
        "print(fruits)\n",
        "\n",
        "fruits.append(5)\n",
        "\n",
        "print(fruits)\n"
      ]
    },
    {
      "cell_type": "code",
      "source": [
        "def persons:\n",
        "  pass # means no method\n",
        "  "
      ],
      "metadata": {
        "id": "3h3gfIzWCNeO"
      },
      "execution_count": null,
      "outputs": []
    },
    {
      "cell_type": "code",
      "source": [
        "class persons:\n",
        "  def __init__(self, name, age):   #__init__ \n",
        "    self.name =  name\n",
        "    self.age = age\n",
        "\n",
        "student = persons(\"anna\", 20)\n",
        "teacher = persons(\"maam sayo\", 40)\n",
        "print(student.name, student.age)\n",
        "\n",
        "print(teacher.name, teacher.age)\n"
      ],
      "metadata": {
        "colab": {
          "base_uri": "https://localhost:8080/"
        },
        "id": "E3UQrIZnCXmN",
        "outputId": "a9b92026-f12d-4ace-d988-527c9568b97f"
      },
      "execution_count": 12,
      "outputs": [
        {
          "output_type": "stream",
          "name": "stdout",
          "text": [
            "anna\n",
            "20\n",
            "maam sayo\n",
            "40\n"
          ]
        }
      ]
    },
    {
      "cell_type": "markdown",
      "source": [
        "solve for the area of triagle"
      ],
      "metadata": {
        "id": "uEtQBBU2DfHQ"
      }
    },
    {
      "cell_type": "code",
      "source": [
        "class shapes:\n",
        "  def __init__(self, length, width):\n",
        "    self.length = length\n",
        "    self.width = width\n",
        "  \n",
        "  def area(self):\n",
        "    return self.length * self.width\n",
        "  \n",
        "rectangle = shapes(10, 5)\n",
        "rectangle.area()"
      ],
      "metadata": {
        "colab": {
          "base_uri": "https://localhost:8080/"
        },
        "id": "BRdjzDOQHNB3",
        "outputId": "1b37c488-4e5e-4f05-a1c7-87a5fa9a593a"
      },
      "execution_count": 36,
      "outputs": [
        {
          "output_type": "execute_result",
          "data": {
            "text/plain": [
              "50"
            ]
          },
          "metadata": {},
          "execution_count": 36
        }
      ]
    },
    {
      "cell_type": "markdown",
      "source": [
        "List"
      ],
      "metadata": {
        "id": "nlnr0YhoITYt"
      }
    },
    {
      "cell_type": "code",
      "source": [
        "# append - insert item after the last item in the list\n",
        "\n",
        "list = [1, 2, 3, 4, 5, 6, 7, 8, 9]\n",
        "\n",
        "list.append(10)\n",
        "\n",
        "print(\"append\",list)\n",
        "\n",
        "list.insert(0, 0)\n",
        "\n",
        "print(\"insert\", list)\n",
        "\n",
        "list.remove(5)\n",
        "\n",
        "print(\"remove\", list)\n",
        "\n",
        "list.pop(1)\n",
        "\n",
        "print(\"pop\", list)\n",
        "\n",
        "del list[0]\n",
        "\n",
        "print(\"del\", list)\n",
        "\n",
        "list.clear()\n",
        "\n",
        "print(\"clear\", list)"
      ],
      "metadata": {
        "colab": {
          "base_uri": "https://localhost:8080/"
        },
        "id": "RzF_wUG1IVHl",
        "outputId": "bad7a530-ad7c-4162-fb0c-8e163fdbb32a"
      },
      "execution_count": 56,
      "outputs": [
        {
          "output_type": "stream",
          "name": "stdout",
          "text": [
            "append [1, 2, 3, 4, 5, 6, 7, 8, 9, 10]\n",
            "insert [0, 1, 2, 3, 4, 5, 6, 7, 8, 9, 10]\n",
            "remove [0, 1, 2, 3, 4, 6, 7, 8, 9, 10]\n",
            "pop [0, 2, 3, 4, 6, 7, 8, 9, 10]\n",
            "del [2, 3, 4, 6, 7, 8, 9, 10]\n",
            "clear []\n"
          ]
        }
      ]
    },
    {
      "cell_type": "markdown",
      "source": [
        "Dictionary { }"
      ],
      "metadata": {
        "id": "OiH8dSh0KDBX"
      }
    },
    {
      "cell_type": "code",
      "source": [
        "var = \"Hello World!\"\n",
        "\n",
        "varDict = {\"first\":123, \n",
        "           2:\"abc\", \n",
        "           \"3\":var, \n",
        "           4:[\"lista\", \"listb\"],\n",
        "           }\n",
        "\n",
        "print(varDict)"
      ],
      "metadata": {
        "colab": {
          "base_uri": "https://localhost:8080/"
        },
        "id": "KBL0Opr3KD8W",
        "outputId": "68f9990b-ded2-4e75-d6b2-fa949ace704c"
      },
      "execution_count": 59,
      "outputs": [
        {
          "output_type": "stream",
          "name": "stdout",
          "text": [
            "{'first': 123, 2: 'abc', '3': 'Hello World!', 4: ['lista', 'listb']}\n"
          ]
        }
      ]
    },
    {
      "cell_type": "code",
      "source": [
        "# if may magkamukha\n",
        "\n",
        "var = \"Hello World!\"\n",
        "\n",
        "varDict = {\"first\":123, \n",
        "           2:\"abc\", \n",
        "           \"3\":var, \n",
        "           4:[\"lista\", \"listb\"],\n",
        "           2:\"def\"\n",
        "           }\n",
        "\n",
        "print(varDict)"
      ],
      "metadata": {
        "colab": {
          "base_uri": "https://localhost:8080/"
        },
        "id": "YLk34G6bMgIZ",
        "outputId": "2e1c1a2c-32c6-4dbf-b120-fc3cd424c2d2"
      },
      "execution_count": 60,
      "outputs": [
        {
          "output_type": "stream",
          "name": "stdout",
          "text": [
            "{'first': 123, 2: 'def', '3': 'Hello World!', 4: ['lista', 'listb']}\n"
          ]
        }
      ]
    },
    {
      "cell_type": "markdown",
      "source": [
        "Slicing"
      ],
      "metadata": {
        "id": "znupAJhSNzZ5"
      }
    },
    {
      "cell_type": "code",
      "source": [
        "b = \"Hello World!\"\n",
        "print(b[2:5])\n"
      ],
      "metadata": {
        "colab": {
          "base_uri": "https://localhost:8080/"
        },
        "id": "HJbdeSNaOF_A",
        "outputId": "0816dae3-5550-4e43-c2e1-1255bcc249d6"
      },
      "execution_count": 61,
      "outputs": [
        {
          "output_type": "stream",
          "name": "stdout",
          "text": [
            "llo\n"
          ]
        }
      ]
    },
    {
      "cell_type": "code",
      "source": [
        "varlist = [1, 2, 3, 4, 5, 6, 7, 8, 9, 10]\n",
        "#          0  1  2  3  4  5  6  7  8   9\n",
        "\n",
        "print(varlist[:5]) # list[: start]\n",
        "\n",
        "print(varlist[3:]) # list[end :]\n",
        "\n",
        "print(varlist[:-2]) # list[: start]\n",
        "\n",
        "print(varlist[:-1]) # list[: start]\n",
        "\n",
        "print(varlist[-2:])\n",
        "\n",
        "print(varlist[2:-2])\n",
        "\n",
        "print(varlist[2:8:2])\n"
      ],
      "metadata": {
        "colab": {
          "base_uri": "https://localhost:8080/"
        },
        "id": "FA42vM9vN0PL",
        "outputId": "f4385c30-05c4-4605-8738-384e898f173b"
      },
      "execution_count": 74,
      "outputs": [
        {
          "output_type": "stream",
          "name": "stdout",
          "text": [
            "[1, 2, 3, 4, 5]\n",
            "[4, 5, 6, 7, 8, 9, 10]\n",
            "[1, 2, 3, 4, 5, 6, 7, 8]\n",
            "[1, 2, 3, 4, 5, 6, 7, 8, 9]\n",
            "[9, 10]\n",
            "[3, 4, 5, 6, 7, 8]\n",
            "[3, 5, 7]\n"
          ]
        }
      ]
    },
    {
      "cell_type": "code",
      "source": [
        "print(varlist[:2])"
      ],
      "metadata": {
        "colab": {
          "base_uri": "https://localhost:8080/"
        },
        "id": "Fq-tIbCYOxHi",
        "outputId": "559cd4af-42bf-4421-8c01-22d8317b3df8"
      },
      "execution_count": 64,
      "outputs": [
        {
          "output_type": "stream",
          "name": "stdout",
          "text": [
            "[1, 2]\n"
          ]
        }
      ]
    }
  ]
}