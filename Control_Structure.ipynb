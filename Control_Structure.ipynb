{
  "nbformat": 4,
  "nbformat_minor": 0,
  "metadata": {
    "colab": {
      "provenance": [],
      "authorship_tag": "ABX9TyOreABrl8zH39mXxoACv6aW",
      "include_colab_link": true
    },
    "kernelspec": {
      "name": "python3",
      "display_name": "Python 3"
    },
    "language_info": {
      "name": "python"
    }
  },
  "cells": [
    {
      "cell_type": "markdown",
      "metadata": {
        "id": "view-in-github",
        "colab_type": "text"
      },
      "source": [
        "<a href=\"https://colab.research.google.com/github/BiriiCastro/580003-OOP/blob/main/Control_Structure.ipynb\" target=\"_parent\"><img src=\"https://colab.research.google.com/assets/colab-badge.svg\" alt=\"Open In Colab\"/></a>"
      ]
    },
    {
      "cell_type": "markdown",
      "source": [
        "if, elif and else Condition"
      ],
      "metadata": {
        "id": "WRZxHnLsBtws"
      }
    },
    {
      "cell_type": "code",
      "execution_count": null,
      "metadata": {
        "id": "9tygLUVz_9C_"
      },
      "outputs": [],
      "source": [
        "a = 5\n",
        "b = 3 \n",
        "\n",
        "if b > a:\n",
        "  print(\"Three is greater than Five\")\n",
        "elif b < a:\n",
        "  print(\"Three is less than Five\")\n",
        "else:\n",
        "  print(\"Three is equal Five\")"
      ]
    },
    {
      "cell_type": "markdown",
      "source": [],
      "metadata": {
        "id": "8Cahq1jZBtIV"
      }
    },
    {
      "cell_type": "code",
      "source": [
        "print(\"Type the grade level of the Student\")\n",
        "print(\"1 - 6 == Elementary\")\n",
        "print(\"7 - 12 == Secondary\")\n",
        "print(\"Any number aside from 1 - 12 == Trtiary\")\n",
        "\n",
        "x = int(input(\"Enter the Code: \"))\n",
        "\n",
        "if x <= 6 and x >= 1:\n",
        "  print(\"You are a Elementary Level Student\") \n",
        "elif x <= 12 and x >= 7:\n",
        "  print(\"You are a Secondary Level Student\")\n",
        "else:\n",
        "  print(\"You are a Tertiary Level Student\") "
      ],
      "metadata": {
        "colab": {
          "base_uri": "https://localhost:8080/"
        },
        "id": "0tblvx0BAIod",
        "outputId": "f963fb33-69e7-4e57-e266-74cd240a45b5"
      },
      "execution_count": 7,
      "outputs": [
        {
          "output_type": "stream",
          "name": "stdout",
          "text": [
            "Type the grade level of the Student\n",
            "1 - 6 == Elementary\n",
            "7 - 12 == Secondary\n",
            "Any number aside from 1 - 12 == Trtiary\n",
            "Enter the Code: 0\n",
            "You are a Tertiary Level Student\n"
          ]
        }
      ]
    },
    {
      "cell_type": "markdown",
      "source": [
        "Short Hand if statement"
      ],
      "metadata": {
        "id": "ERb18Dy5C8Cc"
      }
    },
    {
      "cell_type": "code",
      "source": [
        "c = 223\n",
        "d = 330\n",
        "\n",
        "if d > c: print(\"D is greater than C\")"
      ],
      "metadata": {
        "id": "dda-Y6xBC9Cs"
      },
      "execution_count": null,
      "outputs": []
    },
    {
      "cell_type": "markdown",
      "source": [
        "Short Hand if..else statement"
      ],
      "metadata": {
        "id": "Zq9JSeMWB6Rc"
      }
    },
    {
      "cell_type": "code",
      "source": [
        "\n",
        "print(\"A\") if c > d else print(\"B\")"
      ],
      "metadata": {
        "colab": {
          "base_uri": "https://localhost:8080/"
        },
        "id": "tfYP3XSdB7JM",
        "outputId": "f29fcb62-b13c-4b53-f838-ebb137194ffc"
      },
      "execution_count": 10,
      "outputs": [
        {
          "output_type": "stream",
          "name": "stdout",
          "text": [
            "A\n"
          ]
        }
      ]
    },
    {
      "cell_type": "markdown",
      "source": [
        "Or-at lesat one condition"
      ],
      "metadata": {
        "id": "3J-macQTDRbR"
      }
    },
    {
      "cell_type": "code",
      "source": [
        "x = 200\n",
        "y = 33\n",
        "z = 500\n",
        "\n",
        "if x > y or x > z:\n",
        "  print(\"X is the highest\")\n"
      ],
      "metadata": {
        "id": "xi2ROFN5DT2p"
      },
      "execution_count": null,
      "outputs": []
    },
    {
      "cell_type": "markdown",
      "source": [
        "Nested if"
      ],
      "metadata": {
        "id": "rMXKL2_4Dh4S"
      }
    },
    {
      "cell_type": "code",
      "source": [
        "x = 41\n",
        "\n",
        "if x > 10:\n",
        "  print(\"Above ten,\")\n",
        "\n",
        "  if x > 20:\n",
        "    print(\"and also above 20!\")\n",
        "    if x > 30:\n",
        "      print(\"and also above 30!\")\n",
        "      if x > 40:\n",
        "        print(\"and also above 40!\")\n",
        "        if x > 50:\n",
        "          print(\"and also above 50!\")\n",
        "        else: \n",
        "          print(\"and is below 50!\")\n"
      ],
      "metadata": {
        "colab": {
          "base_uri": "https://localhost:8080/"
        },
        "id": "HFqwXs6XDkvJ",
        "outputId": "fe5a297a-c8ac-4343-ab0e-5e571f2b52b0"
      },
      "execution_count": 13,
      "outputs": [
        {
          "output_type": "stream",
          "name": "stdout",
          "text": [
            "Above ten,\n",
            "and also above 20!\n",
            "and also above 30!\n",
            "and also above 40!\n",
            "and is below 50!\n"
          ]
        }
      ]
    },
    {
      "cell_type": "code",
      "source": [
        "x = 41\n",
        "\n",
        "if x > 10:\n",
        "  print(\"Above ten,\")\n",
        "\n",
        "  if x > 20:\n",
        "    print(\"and also above 20!\")\n",
        "    \n",
        "    if x > 30:\n",
        "      print(\"and also above 30!\")\n",
        "      \n",
        "      if x > 40:\n",
        "        print(\"and also above 40!\")\n",
        "\n",
        "        if x > 50:\n",
        "          print(\"and also above 50!\")\n",
        "        else: \n",
        "          print(\"and is below 50!\")\n",
        "\n",
        "      else:\n",
        "        print(\"and is also Below 40\")\n",
        "\n",
        "    else:\n",
        "      print(\"ans is also Below 30!\")\n",
        "\n",
        "  else:\n",
        "    print(\"and is also Below 20!\")\n",
        "\n",
        "else:\n",
        "  print(\"Below ten\")"
      ],
      "metadata": {
        "colab": {
          "base_uri": "https://localhost:8080/"
        },
        "id": "Z8XKgbA7EwfS",
        "outputId": "ac0daee0-613f-4754-dcfc-f991ca2eaf2c"
      },
      "execution_count": 19,
      "outputs": [
        {
          "output_type": "stream",
          "name": "stdout",
          "text": [
            "Above ten,\n",
            "and also above 20!\n",
            "and also above 30!\n",
            "and also above 40!\n",
            "and is below 50!\n"
          ]
        }
      ]
    },
    {
      "cell_type": "markdown",
      "source": [
        "Program that determies if the input age is qualified to vote or not. qualifying age is 18 year old"
      ],
      "metadata": {
        "id": "44ujC9OPH1-1"
      }
    },
    {
      "cell_type": "code",
      "source": [
        "age = int(input(\"Enter your age: \"))\n",
        "\n",
        "if age >= 18: \n",
        "  print(\"You are qualified to vote\")\n",
        "else:\n",
        "  print(\"You are not qualified to vote\")"
      ],
      "metadata": {
        "colab": {
          "base_uri": "https://localhost:8080/"
        },
        "id": "-RhV363jIXKF",
        "outputId": "5cd8fac4-8616-470b-9a0e-8b594c5367fa"
      },
      "execution_count": 23,
      "outputs": [
        {
          "output_type": "stream",
          "name": "stdout",
          "text": [
            "Enter your age: -15\n",
            "You are not qualified to vote\n"
          ]
        }
      ]
    },
    {
      "cell_type": "markdown",
      "source": [
        "program that determines if Positive, negative or Zero"
      ],
      "metadata": {
        "id": "dxFvbPTuIA09"
      }
    },
    {
      "cell_type": "code",
      "source": [
        "num = int(input(\"Enter a Number: \"))\n",
        "\n",
        "if num >= 1:\n",
        "  print(num, \"is a P-ositive number\")\n",
        "elif num <= -1:\n",
        "  print(num, \"is a Negative number\")\n",
        "else: \n",
        "  print(num, \"is ZERO\")"
      ],
      "metadata": {
        "colab": {
          "base_uri": "https://localhost:8080/"
        },
        "id": "Z5npp4GVIwNX",
        "outputId": "7a22a6e7-dc01-45d0-ee9f-3817b07ea0de"
      },
      "execution_count": 28,
      "outputs": [
        {
          "output_type": "stream",
          "name": "stdout",
          "text": [
            "Enter a Number: -1536\n",
            "-1536 is a Negative number\n"
          ]
        }
      ]
    },
    {
      "cell_type": "markdown",
      "source": [
        "grade >= 70 \"Passed\"\n",
        "grade is 65 to 69 \"Remedial\"\n",
        "grade < 64 or below\"Failed\"\n",
        "if the grade is negative, it will not accept"
      ],
      "metadata": {
        "id": "tGOF0FAzIGrs"
      }
    },
    {
      "cell_type": "code",
      "source": [
        "grade = int(input(\"Enter your Grade: \"))\n",
        "\n",
        "if grade >= 70:\n",
        "  print(\"Passed\")\n",
        "\n",
        "elif grade >= 65 and grade <= 69:\n",
        "  print(\"Remedial\")\n",
        "\n",
        "elif grade <= 64 and grade >= 0:\n",
        "  print(\"Failed\")\n",
        "\n",
        "else:\n",
        "  print(\"ERROR: You've Entered a negative number\")"
      ],
      "metadata": {
        "colab": {
          "base_uri": "https://localhost:8080/"
        },
        "id": "Ug0FkO31JVro",
        "outputId": "051b8e49-fa1a-4be1-b3f1-0ab45ec5f744"
      },
      "execution_count": 39,
      "outputs": [
        {
          "output_type": "stream",
          "name": "stdout",
          "text": [
            "Enter your Grade: -1\n",
            "ERROR: You've Entered a negative number\n"
          ]
        }
      ]
    }
  ]
}